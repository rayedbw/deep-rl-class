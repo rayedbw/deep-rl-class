{
 "cells": [
  {
   "cell_type": "code",
   "execution_count": 1,
   "metadata": {},
   "outputs": [],
   "source": [
    "import gym\n",
    "import imageio\n",
    "from pathlib import Path\n",
    "\n",
    "from stable_baselines3 import PPO\n",
    "from stable_baselines3.common.env_util import make_vec_env\n",
    "from stable_baselines3.common.vec_env import DummyVecEnv, VecVideoRecorder\n",
    "from stable_baselines3.common.evaluation import evaluate_policy\n",
    "\n",
    "env_id = 'LunarLander-v2'\n",
    "\n",
    "# vec_env = make_vec_env(env_id, n_envs=16)\n",
    "# \n",
    "# model = PPO(\n",
    "#     policy=\"MlpPolicy\",\n",
    "#     env=vec_env,\n",
    "#     n_steps=1024,\n",
    "#     batch_size=64,\n",
    "#     n_epochs=4,\n",
    "#     gamma=0.999,\n",
    "#     gae_lambda=0.98,\n",
    "#     ent_coef=0.01,\n",
    "#     # verbose=1,\n",
    "# )\n",
    "# model.learn(total_timesteps=1e6, progress_bar=True)\n",
    "# model.save('./models/PPO-LunarLander-v2')"
   ]
  },
  {
   "cell_type": "code",
   "execution_count": 2,
   "metadata": {},
   "outputs": [
    {
     "name": "stdout",
     "output_type": "stream",
     "text": [
      "Mean reward = 251.06 +/- 25.08\n"
     ]
    }
   ],
   "source": [
    "eval_env = make_vec_env(env_id)\n",
    "model = PPO.load('./models/PPO-LunarLander-v2')\n",
    "\n",
    "mean_reward, std_reward = evaluate_policy(model, eval_env)\n",
    "print(f'Mean reward = {mean_reward:.2f} +/- {std_reward:.2f}')"
   ]
  },
  {
   "cell_type": "code",
   "execution_count": 10,
   "metadata": {},
   "outputs": [
    {
     "name": "stderr",
     "output_type": "stream",
     "text": [
      "IMAGEIO FFMPEG_WRITER WARNING: input image is not divisible by macro_block_size=16, resizing from (600, 400) to (608, 400) to ensure video compatibility with most codecs and players. To prevent resizing, make your input image divisible by the macro_block_size or set the macro_block_size to 1 (risking incompatibility).\n",
      "[swscaler @ 0x6e74fc0] Warning: data is not aligned! This can lead to a speed loss\n"
     ]
    }
   ],
   "source": [
    "video_folder = Path('./videos/')\n",
    "\n",
    "images = []\n",
    "images.append(eval_env.render(mode='rgb_array'))\n",
    "obs = eval_env.reset()\n",
    "while True:\n",
    "    action, _ = model.predict(obs, deterministic=True)\n",
    "    obs, reward, done, info = eval_env.step(action)\n",
    "    images.append(eval_env.render(mode='rgb_array'))\n",
    "    if done.item():\n",
    "        break\n",
    "eval_env.close()\n",
    "imageio.mimwrite(video_folder / 'replay.mp4', \n",
    "                [img for i, img in enumerate(images) if i % 3 == 0], \n",
    "                fps=30)"
   ]
  },
  {
   "cell_type": "code",
   "execution_count": null,
   "metadata": {},
   "outputs": [],
   "source": []
  }
 ],
 "metadata": {
  "kernelspec": {
   "display_name": "deep_rl_class_unit1",
   "language": "python",
   "name": "python3"
  },
  "language_info": {
   "codemirror_mode": {
    "name": "ipython",
    "version": 3
   },
   "file_extension": ".py",
   "mimetype": "text/x-python",
   "name": "python",
   "nbconvert_exporter": "python",
   "pygments_lexer": "ipython3",
   "version": "3.10.8"
  },
  "orig_nbformat": 4,
  "vscode": {
   "interpreter": {
    "hash": "d311766f5532684cf8a2945c04e958ca9de637e7064ede54758c81834b92524e"
   }
  }
 },
 "nbformat": 4,
 "nbformat_minor": 2
}
